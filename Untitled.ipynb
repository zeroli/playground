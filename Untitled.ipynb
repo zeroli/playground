{
 "cells": [
  {
   "cell_type": "code",
   "execution_count": 1,
   "metadata": {},
   "outputs": [],
   "source": [
    "import os, sys, random"
   ]
  },
  {
   "cell_type": "code",
   "execution_count": 24,
   "metadata": {},
   "outputs": [],
   "source": [
    "class TreeNode(object):\n",
    "    def __init__(self, value, left=None, right=None):\n",
    "        self.parent = None\n",
    "        self.value = value\n",
    "        self.left = self.right = None\n",
    "        if left: self.assignleft(left)\n",
    "        if right: self.assignright(right)\n",
    "    \n",
    "    def __repr__(self):\n",
    "        return '{}'.format(str(self.value))\n",
    "    \n",
    "    def assignleft(self, left):\n",
    "        self.left = left\n",
    "        left.parent = self\n",
    "    \n",
    "    def assignright(self, right):\n",
    "        self.right = right\n",
    "        right.parent = self\n",
    "    \n",
    "    def isleaf(self):\n",
    "        return self.left == None and self.right == None\n",
    "\n",
    "class BinaryTree(object):\n",
    "    def __init__(self, root):\n",
    "        self.root = root\n",
    "    \n",
    "    def preorder(self):\n",
    "        def _preorder(root):\n",
    "            if root == None: return\n",
    "            print root,\n",
    "            _preorder(root.left)\n",
    "            _preorder(root.right)\n",
    "        _preorder(self.root)\n",
    "\n",
    "    def postorder(self):\n",
    "        def _postorder(root):\n",
    "            if root == None: return\n",
    "            _postorder(root.left)\n",
    "            _postorder(root.right)\n",
    "            print root,\n",
    "        _postorder(self.root)\n",
    "        \n",
    "    def inorder(self):\n",
    "        def _inorder(root):\n",
    "            if root == None: return\n",
    "            if root.isleaf():\n",
    "                print root,\n",
    "            else:\n",
    "                print '(',\n",
    "                _inorder(root.left)\n",
    "                print root,\n",
    "                _inorder(root.right)\n",
    "                print ')',\n",
    "        _inorder(self.root)\n"
   ]
  },
  {
   "cell_type": "code",
   "execution_count": 25,
   "metadata": {},
   "outputs": [
    {
     "name": "stdout",
     "output_type": "stream",
     "text": [
      "( ( ( ( 3 + 1 ) x 3 ) / ( ( 9 - 5 ) + 2 ) ) - ( ( 3 x ( 7 - 4 ) ) + 6 ) )\n"
     ]
    }
   ],
   "source": [
    "n1 = TreeNode('/',\n",
    "              left=TreeNode('x', \n",
    "                    left=TreeNode('+', TreeNode('3'), TreeNode('1')),\n",
    "                    right=TreeNode('3')),\n",
    "              right=TreeNode('+',\n",
    "                    left=TreeNode('-', TreeNode('9'), TreeNode('5')),\n",
    "                    right=TreeNode('2'))\n",
    "             )\n",
    "n2 = TreeNode('+',\n",
    "              left=TreeNode('x',\n",
    "                           left=TreeNode('3'),\n",
    "                           right=TreeNode('-', TreeNode('7'), TreeNode('4'))),\n",
    "              right=TreeNode('6')\n",
    "             )\n",
    "root = TreeNode('-', n1, n2)\n",
    "bt = BinaryTree(root)\n",
    "bt.inorder()"
   ]
  },
  {
   "cell_type": "code",
   "execution_count": null,
   "metadata": {},
   "outputs": [],
   "source": []
  }
 ],
 "metadata": {
  "kernelspec": {
   "display_name": "Python 2",
   "language": "python",
   "name": "python2"
  },
  "language_info": {
   "codemirror_mode": {
    "name": "ipython",
    "version": 2
   },
   "file_extension": ".py",
   "mimetype": "text/x-python",
   "name": "python",
   "nbconvert_exporter": "python",
   "pygments_lexer": "ipython2",
   "version": "2.7.15"
  }
 },
 "nbformat": 4,
 "nbformat_minor": 2
}
