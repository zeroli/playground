{
 "cells": [
  {
   "cell_type": "code",
   "execution_count": 49,
   "metadata": {},
   "outputs": [],
   "source": [
    "def buildPrefixTable(p):\n",
    "    next = [-1] * len(p)\n",
    "    if len(p) <= 1: return next\n",
    "    j = 0\n",
    "    i = 1\n",
    "    next[i] = 0\n",
    "    while (i < len(p)-1):\n",
    "        print j, i\n",
    "        if j < 0 or p[i] == p[j]:\n",
    "            i += 1\n",
    "            j += 1\n",
    "            next[i] = j\n",
    "        else:\n",
    "            j = next[j]\n",
    "    return next\n",
    "\n",
    "def naiveSearch(t, p):\n",
    "    print 'naive sarch algo'\n",
    "    i = 0\n",
    "    j = 0\n",
    "    while i < len(t):\n",
    "        j = 0\n",
    "        while j < len(p):\n",
    "            if i >= len(t): break\n",
    "            if t[i] == p[j]:\n",
    "                i += 1\n",
    "                j += 1\n",
    "            else:\n",
    "                break\n",
    "        if j == len(p):\n",
    "            return i - j\n",
    "        i += 1\n",
    "    return -1\n",
    "\n",
    "def kmpSearch(t, p):\n",
    "    print 'kmp serach algo'\n",
    "    next = buildPrefixTable(p)\n",
    "    print 'next : {}'.format(next)\n",
    "    \n",
    "    i = 0\n",
    "    j = 0\n",
    "    while i < len(t):\n",
    "        j = 0\n",
    "        while j < len(p):\n",
    "            if i >= len(t): break\n",
    "            if t[i] == p[j]:\n",
    "                i += 1\n",
    "                j += 1\n",
    "            else:\n",
    "                j = next[j]\n",
    "                if j < 0: break\n",
    "        if j == len(p):\n",
    "            return i - j\n",
    "        i += 1\n",
    "    return -1"
   ]
  },
  {
   "cell_type": "code",
   "execution_count": 21,
   "metadata": {},
   "outputs": [
    {
     "name": "stdout",
     "output_type": "stream",
     "text": [
      "0 1\n",
      "\n",
      "-1 1\n",
      "\n",
      "0 2\n",
      "\n",
      "1 3\n",
      "\n",
      "[-1, 0, 0, 1, 2]\n"
     ]
    }
   ],
   "source": [
    "p = 'ababc'\n",
    "next = buildPrefixTable(p)\n",
    "print next"
   ]
  },
  {
   "cell_type": "code",
   "execution_count": 54,
   "metadata": {},
   "outputs": [
    {
     "name": "stdout",
     "output_type": "stream",
     "text": [
      "naive sarch algo\n",
      "-1\n",
      "kmp serach algo\n",
      "0 1\n",
      "-1 1\n",
      "0 2\n",
      "-1 2\n",
      "0 3\n",
      "-1 3\n",
      "next : [-1, 0, 0, 0, 0]\n",
      "-1\n"
     ]
    }
   ],
   "source": [
    "t = 'this is one test that I want to test kmp algo'\n",
    "p = 'algo'\n",
    "print naiveSearch(t, p)\n",
    "print kmpSearch(t, p)"
   ]
  }
 ],
 "metadata": {
  "kernelspec": {
   "display_name": "Python 2",
   "language": "python",
   "name": "python2"
  },
  "language_info": {
   "codemirror_mode": {
    "name": "ipython",
    "version": 2
   },
   "file_extension": ".py",
   "mimetype": "text/x-python",
   "name": "python",
   "nbconvert_exporter": "python",
   "pygments_lexer": "ipython2",
   "version": "2.7.15"
  }
 },
 "nbformat": 4,
 "nbformat_minor": 2
}
