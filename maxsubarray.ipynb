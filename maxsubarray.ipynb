{
 "cells": [
  {
   "cell_type": "code",
   "execution_count": 16,
   "metadata": {},
   "outputs": [],
   "source": [
    "import os, sys, random"
   ]
  },
  {
   "cell_type": "code",
   "execution_count": 2,
   "metadata": {},
   "outputs": [],
   "source": [
    "def maxSubArraySlow(a):\n",
    "    m = 0\n",
    "    mk, mj = 0, 0\n",
    "    for i in xrange(len(a)):\n",
    "        s = 0\n",
    "        for j in xrange(i, len(a)):\n",
    "            s = sum(a[i:j+1])\n",
    "            if s > m:\n",
    "                m = s\n",
    "                mk, mj = i, j\n",
    "    return m, (mk, mj)"
   ]
  },
  {
   "cell_type": "code",
   "execution_count": 3,
   "metadata": {},
   "outputs": [],
   "source": [
    "def maxSubArrayFaster(m):\n",
    "    m = 0\n",
    "    mk, mj = 0, 0\n",
    "    S = [0 for x in a]\n",
    "    S[0] = a[0]\n",
    "    for i in xrange(1, len(a)):\n",
    "        S[i] = S[i-1] + a[i]\n",
    "    m = S[0]\n",
    "    for i in xrange(0, len(a)):\n",
    "        for j in xrange(i, len(a)):\n",
    "            if i == 0: s = S[j]\n",
    "            else: s = S[j] - S[i-1]\n",
    "            if s > m:\n",
    "                m = s\n",
    "                mk, mj = i, j\n",
    "    return m, (mk, mj)"
   ]
  },
  {
   "cell_type": "code",
   "execution_count": 18,
   "metadata": {},
   "outputs": [],
   "source": [
    "def maxSubArrayFastest(a):\n",
    "    m = 0\n",
    "    mk, mj = 0, 0\n",
    "    M = [0 for x in a]\n",
    "    mkj = [[-1, -1] for x in a]\n",
    "    for i in xrange(len(a)):\n",
    "        #print i,\n",
    "        if i == 0: s = a[i]\n",
    "        else: s = M[i-1] + a[i]\n",
    "        #print s,\n",
    "        if s > 0:\n",
    "            mkj[i][0] = i if i == 0 or mkj[i-1][0] < 0 else mkj[i-1][0]\n",
    "            mkj[i][1] = i if i == 0 or mkj[i-1][1] < 0 else mkj[i-1][1] + 1\n",
    "            if m < s:\n",
    "                m = s\n",
    "                mk, mj = mkj[i]\n",
    "        else:\n",
    "            s = 0\n",
    "            mkj[i] = [-1, -1]\n",
    "        M[i] = s\n",
    "        #print M[i], (mk, mj)\n",
    "    return m, (mk, mj)"
   ]
  },
  {
   "cell_type": "code",
   "execution_count": 25,
   "metadata": {},
   "outputs": [
    {
     "name": "stdout",
     "output_type": "stream",
     "text": [
      "(591, (24, 78))\n",
      "(591, (24, 78))\n",
      "(591, (24, 78))\n"
     ]
    }
   ],
   "source": [
    "a = [random.randint(-100, 100) for i in xrange(100)] #[-2, -4, 3, -1, 5, 6, -7, -2, 4, -3, 2] #\n",
    "print maxSubArraySlow(a)\n",
    "print maxSubArrayFaster(a)\n",
    "print maxSubArrayFastest(a)"
   ]
  },
  {
   "cell_type": "code",
   "execution_count": null,
   "metadata": {},
   "outputs": [],
   "source": []
  }
 ],
 "metadata": {
  "kernelspec": {
   "display_name": "Python 2",
   "language": "python",
   "name": "python2"
  },
  "language_info": {
   "codemirror_mode": {
    "name": "ipython",
    "version": 2
   },
   "file_extension": ".py",
   "mimetype": "text/x-python",
   "name": "python",
   "nbconvert_exporter": "python",
   "pygments_lexer": "ipython2",
   "version": "2.7.15"
  }
 },
 "nbformat": 4,
 "nbformat_minor": 2
}
