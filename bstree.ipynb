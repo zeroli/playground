{
 "cells": [
  {
   "cell_type": "code",
   "execution_count": 1,
   "metadata": {},
   "outputs": [],
   "source": [
    "import os, sys\n",
    "import random"
   ]
  },
  {
   "cell_type": "code",
   "execution_count": 2,
   "metadata": {},
   "outputs": [],
   "source": [
    "class Node(object):\n",
    "    def __init__(self, key):\n",
    "        self.left = None\n",
    "        self.right = None\n",
    "        self.key = key\n"
   ]
  },
  {
   "cell_type": "code",
   "execution_count": 18,
   "metadata": {},
   "outputs": [],
   "source": [
    "class BSTree(object):\n",
    "    def __init__(self):\n",
    "        self.root = None\n",
    "        pass\n",
    "    \n",
    "    def insert(self, key):\n",
    "        nn = self.createNode(key)\n",
    "        if not self.root:\n",
    "            self.root = nn\n",
    "        else:\n",
    "            cn = self.root            \n",
    "            while True:\n",
    "                if key <= cn.key:\n",
    "                    if cn.left is None:\n",
    "                        cn.left = nn\n",
    "                        break\n",
    "                    else: cn = cn.left                    \n",
    "                else:\n",
    "                    if cn.right is None:\n",
    "                        cn.right = nn\n",
    "                        break\n",
    "                    else: cn = cn.right        \n",
    "    \n",
    "    def createNode(self, key):\n",
    "        return Node(key)\n",
    "\n",
    "    def inorder(self):\n",
    "        pass\n",
    "    \n",
    "    def preorder(self):\n",
    "        if not self.root: return\n",
    "        cn = self.root\n",
    "        \n",
    "        def _preorder(n):\n",
    "            if not n: return\n",
    "            _preorder(n.left)\n",
    "            print n.key,\n",
    "            _preorder(n.right)\n",
    "\n",
    "        _preorder(cn)\n",
    "\n",
    "    def postorder(self):\n",
    "        pass\n",
    "    \n",
    "    def minKey(self):\n",
    "        pass\n",
    "    \n",
    "    def maxKey(self):\n",
    "        pass\n",
    "    \n",
    "    def find(self, key):\n",
    "        pass\n",
    "    \n",
    "    def delete(self, key):\n",
    "        pass\n",
    "    "
   ]
  },
  {
   "cell_type": "code",
   "execution_count": 33,
   "metadata": {},
   "outputs": [],
   "source": [
    "def main():\n",
    "    lst = [random.randint(0, 30) for i in xrange(10)]\n",
    "    print lst\n",
    "    bst = BSTree()\n",
    "    map(lambda x: bst.insert(x), lst)\n",
    "    bst.preorder()"
   ]
  },
  {
   "cell_type": "code",
   "execution_count": 35,
   "metadata": {},
   "outputs": [
    {
     "name": "stdout",
     "output_type": "stream",
     "text": [
      "[15, 14, 18, 4, 23, 1, 24, 30, 6, 12]\n",
      "1 4 6 12 14 15 18 23 24 30\n"
     ]
    }
   ],
   "source": [
    "main()"
   ]
  },
  {
   "cell_type": "code",
   "execution_count": null,
   "metadata": {},
   "outputs": [],
   "source": []
  }
 ],
 "metadata": {
  "kernelspec": {
   "display_name": "Python 2",
   "language": "python",
   "name": "python2"
  },
  "language_info": {
   "codemirror_mode": {
    "name": "ipython",
    "version": 2
   },
   "file_extension": ".py",
   "mimetype": "text/x-python",
   "name": "python",
   "nbconvert_exporter": "python",
   "pygments_lexer": "ipython2",
   "version": "2.7.15"
  }
 },
 "nbformat": 4,
 "nbformat_minor": 2
}
